{
 "cells": [
  {
   "cell_type": "code",
   "execution_count": 1,
   "id": "1a8272b8-7aab-4a9a-8414-fca4d9f521fc",
   "metadata": {},
   "outputs": [],
   "source": [
    "import os\n",
    "import numpy as np\n",
    "import glob\n",
    "import PIL.Image as Image\n",
    "from tqdm import tqdm\n",
    "from Dataloader import *\n",
    "from torch.utils.data import ConcatDataset\n",
    "import torch\n",
    "import torch.nn as nn\n",
    "import torch.nn.functional as F\n",
    "import torchvision.datasets as datasets\n",
    "from torch.utils.data import DataLoader\n",
    "import torchvision.transforms as transforms\n",
    "import matplotlib.pyplot as plt\n",
    "from torch.utils.data import random_split\n",
    "\n",
    "from torchvision import models\n",
    "from torchsummary import summary\n",
    "import torch.optim as optim\n",
    "from time import time\n",
    "from IPython.display import clear_output\n",
    "from Loss import *\n",
    "from torch.utils.tensorboard.writer import SummaryWriter\n",
    "from HyperParameterSearch import *"
   ]
  },
  {
   "cell_type": "markdown",
   "id": "9ec368a0-1a20-442a-937d-952ccf6c9536",
   "metadata": {},
   "source": [
    "We check that we're running on a GPU"
   ]
  },
  {
   "cell_type": "code",
   "execution_count": 2,
   "id": "7f05591a-9940-4f95-9d77-a834edcfa344",
   "metadata": {},
   "outputs": [
    {
     "name": "stdout",
     "output_type": "stream",
     "text": [
      "This code will run on GPU.\n"
     ]
    }
   ],
   "source": [
    "if torch.cuda.is_available():\n",
    "    print(\"This code will run on GPU.\")\n",
    "else:\n",
    "    print(\"The code will run on CPU.\")\n",
    "device = torch.device('cuda' if torch.cuda.is_available() else 'cpu')"
   ]
  },
  {
   "cell_type": "markdown",
   "id": "45a527a1-72a1-4781-a5a8-8be5537df1bd",
   "metadata": {},
   "source": [
    "Taking a look at some of the images from the two datasets"
   ]
  },
  {
   "cell_type": "code",
   "execution_count": 3,
   "id": "6812c5a8-7c5d-406a-b4d7-1aa917f6cb88",
   "metadata": {},
   "outputs": [],
   "source": [
    "transform = transforms.Compose(\n",
    "    [\n",
    "        transforms.Resize((256, 256)),\n",
    "        transforms.ToTensor(),\n",
    "    ]\n",
    ")\n",
    "\n",
    "drive_dataset = DRIVE(train=True, transform=transform)\n",
    "drive_train_size = int(0.8 * len(drive_dataset))\n",
    "drive_val_size = len(drive_dataset) - drive_train_size\n",
    "drive_train, drive_val = random_split(drive_dataset, [drive_train_size, drive_val_size])\n",
    "drive_test = DRIVE(train=False, transform=transform)\n",
    "\n",
    "ph2_dataset = PH2(train=True, transform=transform)\n",
    "ph2_train_size = int(0.8 * len(ph2_dataset))\n",
    "ph2_val_size = len(ph2_dataset) - ph2_train_size\n",
    "ph2_train, ph2_val = random_split(ph2_dataset, [ph2_train_size, ph2_val_size])\n",
    "ph2_test = PH2(train=False, transform=transform)                    \n",
    "\n"
   ]
  },
  {
   "cell_type": "markdown",
   "id": "d8883c90-2451-4b23-8d25-4efba7f45611",
   "metadata": {},
   "source": [
    "# Designing the model architecture\n",
    "\n",
    "Simple encoder decoder network class"
   ]
  },
  {
   "cell_type": "code",
   "execution_count": 4,
   "id": "ab40a516-c044-4376-8adc-d7bb5401fe5f",
   "metadata": {},
   "outputs": [],
   "source": [
    "\n",
    "class EncDec(nn.Module):\n",
    "    def __init__(self):\n",
    "        super().__init__()\n",
    "\n",
    "        # encoder (downsampling)\n",
    "        self.enc_conv0 = nn.Conv2d(3, 64, 3, padding=1)\n",
    "        self.pool0 = nn.MaxPool2d(2, 2)  # 128 -> 64\n",
    "        self.enc_conv1 = nn.Conv2d(64, 64, 3, padding=1)\n",
    "        self.pool1 = nn.MaxPool2d(2, 2)  # 64 -> 32\n",
    "        self.enc_conv2 = nn.Conv2d(64, 64, 3, padding=1)\n",
    "        self.pool2 = nn.MaxPool2d(2, 2)  # 32 -> 16\n",
    "        self.enc_conv3 = nn.Conv2d(64, 64, 3, padding=1)\n",
    "        self.pool3 = nn.MaxPool2d(2, 2)  # 16 -> 8\n",
    "\n",
    "        # bottleneck\n",
    "        self.bottleneck_conv = nn.Conv2d(64, 64, 3, padding=1)\n",
    "\n",
    "        # decoder (upsampling)\n",
    "        self.upsample0 = nn.Upsample(32)  # 8 -> 16\n",
    "        self.dec_conv0 = nn.Conv2d(64, 64, 3, padding=1)\n",
    "        self.upsample1 = nn.Upsample(64)  # 16 -> 32\n",
    "        self.dec_conv1 = nn.Conv2d(64, 64, 3, padding=1)\n",
    "        self.upsample2 = nn.Upsample(128)  # 32 -> 64\n",
    "        self.dec_conv2 = nn.Conv2d(64, 64, 3, padding=1)\n",
    "        self.upsample3 = nn.Upsample(256)  # 64 -> 128\n",
    "        self.dec_conv3 = nn.Conv2d(64, 1, 3, padding=1)\n",
    "\n",
    "    def forward(self, x):\n",
    "        # encoder\n",
    "        e0 = self.pool0(F.relu(self.enc_conv0(x)))\n",
    "        e1 = self.pool1(F.relu(self.enc_conv1(e0)))\n",
    "        e2 = self.pool2(F.relu(self.enc_conv2(e1)))\n",
    "        e3 = self.pool3(F.relu(self.enc_conv3(e2)))\n",
    "\n",
    "        # bottleneck\n",
    "        b = F.relu(self.bottleneck_conv(e3))\n",
    "\n",
    "        # decoder\n",
    "        d0 = F.relu(self.dec_conv0(self.upsample0(b)))\n",
    "        d1 = F.relu(self.dec_conv1(self.upsample1(d0)))\n",
    "        d2 = F.relu(self.dec_conv2(self.upsample2(d1)))\n",
    "        d3 = self.dec_conv3(self.upsample3(d2))  # no activation\n",
    "        return d3\n",
    "    "
   ]
  },
  {
   "cell_type": "markdown",
   "id": "a6d95182-2422-4728-8518-076997319d96",
   "metadata": {},
   "source": [
    "# Actually training model"
   ]
  },
  {
   "cell_type": "code",
   "execution_count": 5,
   "id": "76d23563-8326-4b38-8dd6-ace87b21442b",
   "metadata": {
    "scrolled": true
   },
   "outputs": [
    {
     "name": "stdout",
     "output_type": "stream",
     "text": [
      "----------------------------------------------------------------\n",
      "        Layer (type)               Output Shape         Param #\n",
      "================================================================\n",
      "            Conv2d-1         [-1, 64, 256, 256]           1,792\n",
      "         MaxPool2d-2         [-1, 64, 128, 128]               0\n",
      "            Conv2d-3         [-1, 64, 128, 128]          36,928\n",
      "         MaxPool2d-4           [-1, 64, 64, 64]               0\n",
      "            Conv2d-5           [-1, 64, 64, 64]          36,928\n",
      "         MaxPool2d-6           [-1, 64, 32, 32]               0\n",
      "            Conv2d-7           [-1, 64, 32, 32]          36,928\n",
      "         MaxPool2d-8           [-1, 64, 16, 16]               0\n",
      "            Conv2d-9           [-1, 64, 16, 16]          36,928\n",
      "         Upsample-10           [-1, 64, 32, 32]               0\n",
      "           Conv2d-11           [-1, 64, 32, 32]          36,928\n",
      "         Upsample-12           [-1, 64, 64, 64]               0\n",
      "           Conv2d-13           [-1, 64, 64, 64]          36,928\n",
      "         Upsample-14         [-1, 64, 128, 128]               0\n",
      "           Conv2d-15         [-1, 64, 128, 128]          36,928\n",
      "         Upsample-16         [-1, 64, 256, 256]               0\n",
      "           Conv2d-17          [-1, 1, 256, 256]             577\n",
      "================================================================\n",
      "Total params: 260,865\n",
      "Trainable params: 260,865\n",
      "Non-trainable params: 0\n",
      "----------------------------------------------------------------\n",
      "Input size (MB): 0.75\n",
      "Forward/backward pass size (MB): 106.75\n",
      "Params size (MB): 1.00\n",
      "Estimated Total Size (MB): 108.50\n",
      "----------------------------------------------------------------\n"
     ]
    }
   ],
   "source": [
    "model = EncDec().to(device)\n",
    "summary(model, (3, 256, 256))"
   ]
  },
  {
   "cell_type": "markdown",
   "id": "46556878-fd5b-4de3-b391-161664bd945e",
   "metadata": {},
   "source": [
    "Specifying hyperparameters"
   ]
  },
  {
   "cell_type": "code",
   "execution_count": 6,
   "id": "7e8af0fa-9cb9-477d-ae5e-c8033885e9a3",
   "metadata": {},
   "outputs": [
    {
     "name": "stdout",
     "output_type": "stream",
     "text": [
      "Current working directory: /zhome/c8/c/169006/Repos/ImageSegmentation\n"
     ]
    }
   ],
   "source": [
    "print(\"Current working directory:\", os.getcwd())\n",
    "\n",
    "run_dir = \"HPSearch\"\n",
    "os.makedirs(run_dir, exist_ok=True)\n",
    "\n",
    "# Define the loss function\n",
    "loss_function = bce_loss\n",
    "results = {}\n",
    "\n",
    "hyperparameters = {\n",
    "    \"number of classes\": 2,\n",
    "    \"device\": device,\n",
    "    \"image size\": (256, 256),\n",
    "    \"backbone\": \"SimpleEncDec\",\n",
    "    \"torch home\": \"TorchvisionModels\",\n",
    "    \"network name\": \"Test-0\",\n",
    "    \"beta1\": 0.9, # Default values for Adam\n",
    "    \"beta2\": 0.999, # Default values for Adam\n",
    "    \"epsilon\": 1e-08, # Default values for Adam\n",
    "    \"number of workers\": 0, \n",
    "    \"momentum\": 0.9,\n",
    "    \"weight decay\": 0.0005,\n",
    "    \"scheduler\": \"Yes\",\n",
    "}\n",
    "\n",
    "\n",
    "hyperparameter_grid = {\n",
    "    'batch size': [1, 2, 4],\n",
    "    'step size': [5, 3, 2],\n",
    "    'learning rate': [1e-3, 1e-4, 1e-5],\n",
    "    \"epochs\": [5, 10, 20],\n",
    "    'gamma': [0.8, 0.9, 0.7],\n",
    "    'momentum': [0.9, 0.95],\n",
    "    'optimizer': ['Adam', 'sgd'], \n",
    "    \n",
    "}\n",
    "\n",
    "hyperparameter_grid = {\n",
    "    'batch size': [1, 2],\n",
    "    'step size': [5],\n",
    "    'learning rate': [1e-3],\n",
    "    \"epochs\": [5],\n",
    "    'gamma': [0.8],\n",
    "    'momentum': [0.9],\n",
    "    'optimizer': ['Adam', 'sgd'], \n",
    "    \n",
    "}"
   ]
  },
  {
   "cell_type": "markdown",
   "id": "2f0bedeb-2fcf-479d-a66d-28265fcb922f",
   "metadata": {},
   "source": [
    "Creating dataset loaders"
   ]
  },
  {
   "cell_type": "code",
   "execution_count": 7,
   "id": "02add1f5-a92e-4e92-91bb-6c69709d544c",
   "metadata": {},
   "outputs": [
    {
     "name": "stdout",
     "output_type": "stream",
     "text": [
      "Created a new Dataset for training of length: 48\n",
      "Created a new Dataset for validation of length: 12\n",
      "Created a new Dataset for testing of length: 30\n"
     ]
    }
   ],
   "source": [
    "from torch.utils.tensorboard.writer import SummaryWriter\n",
    "\n",
    "trainset = ConcatDataset([drive_train, ph2_train])\n",
    "# train_loader = torch.utils.data.DataLoader(trainset, batch_size=hyperparameters['batch size'], shuffle=True)\n",
    "\n",
    "valset = ConcatDataset([drive_val, ph2_val])\n",
    "# val_loader = torch.utils.data.DataLoader(valset, batch_size=hyperparameters['batch size'], shuffle=False)\n",
    "\n",
    "testset = ConcatDataset([drive_test, ph2_test])\n",
    "# test_loader = torch.utils.data.DataLoader(testset, batch_size=hyperparameters['batch size'], shuffle=False)\n",
    "\n",
    "print(f\"Created a new Dataset for training of length: {len(trainset)}\")\n",
    "print(f\"Created a new Dataset for validation of length: {len(valset)}\")\n",
    "print(f\"Created a new Dataset for testing of length: {len(testset)}\")"
   ]
  },
  {
   "cell_type": "markdown",
   "id": "46b4137e-5a6b-4924-b45a-50d75b4d67c7",
   "metadata": {},
   "source": [
    "Conducting Hyperparameter Search"
   ]
  },
  {
   "cell_type": "code",
   "execution_count": 9,
   "id": "cc593a1d-efff-414a-88c3-044de7897bf7",
   "metadata": {
    "scrolled": true
   },
   "outputs": [
    {
     "name": "stdout",
     "output_type": "stream",
     "text": [
      "Number of combinations: 4 (amount of models to test)\n",
      "\n",
      "\n",
      "Current hyper parameters: {'batch size': 1, 'step size': 5, 'learning rate': 0.001, 'epochs': 5, 'gamma': 0.8, 'momentum': 0.9, 'optimizer': 'Adam'}\n",
      "Created a new Dataloader for training with batch size: 1\n",
      "Created a new Dataloader for validation with batch size: 1\n",
      "Created a new Dataloader for testing with batch size: 1\n"
     ]
    },
    {
     "data": {
      "application/vnd.jupyter.widget-view+json": {
       "model_id": "8fcdbc3de6ef43efb14344c8a16981db",
       "version_major": 2,
       "version_minor": 0
      },
      "text/plain": [
       "Training Epoch [1/5]:   0%|                                                                                   …"
      ]
     },
     "metadata": {},
     "output_type": "display_data"
    },
    {
     "data": {
      "application/vnd.jupyter.widget-view+json": {
       "model_id": "ba5aeaada46b4a049b66c5ef5f13ae93",
       "version_major": 2,
       "version_minor": 0
      },
      "text/plain": [
       "Validation Epoch [1/5]:   0%|                                                                                 …"
      ]
     },
     "metadata": {},
     "output_type": "display_data"
    },
    {
     "name": "stdout",
     "output_type": "stream",
     "text": [
      "Current learning rate: [0.001]\n"
     ]
    },
    {
     "data": {
      "application/vnd.jupyter.widget-view+json": {
       "model_id": "5b6566a86b0848ea8b50f5662e864ea3",
       "version_major": 2,
       "version_minor": 0
      },
      "text/plain": [
       "Training Epoch [2/5]:   0%|                                                                                   …"
      ]
     },
     "metadata": {},
     "output_type": "display_data"
    },
    {
     "data": {
      "application/vnd.jupyter.widget-view+json": {
       "model_id": "4d42d457320d4ae294f30ef8f813716a",
       "version_major": 2,
       "version_minor": 0
      },
      "text/plain": [
       "Validation Epoch [2/5]:   0%|                                                                                 …"
      ]
     },
     "metadata": {},
     "output_type": "display_data"
    },
    {
     "name": "stdout",
     "output_type": "stream",
     "text": [
      "Current learning rate: [0.001]\n"
     ]
    },
    {
     "data": {
      "application/vnd.jupyter.widget-view+json": {
       "model_id": "b1011022ece4498eae3112f9277d9829",
       "version_major": 2,
       "version_minor": 0
      },
      "text/plain": [
       "Training Epoch [3/5]:   0%|                                                                                   …"
      ]
     },
     "metadata": {},
     "output_type": "display_data"
    },
    {
     "data": {
      "application/vnd.jupyter.widget-view+json": {
       "model_id": "1ee3babb43f44d70b21543324a2cbdc0",
       "version_major": 2,
       "version_minor": 0
      },
      "text/plain": [
       "Validation Epoch [3/5]:   0%|                                                                                 …"
      ]
     },
     "metadata": {},
     "output_type": "display_data"
    },
    {
     "name": "stdout",
     "output_type": "stream",
     "text": [
      "Current learning rate: [0.001]\n"
     ]
    },
    {
     "data": {
      "application/vnd.jupyter.widget-view+json": {
       "model_id": "348c882365c54ff5825cd9c2608c7c0e",
       "version_major": 2,
       "version_minor": 0
      },
      "text/plain": [
       "Training Epoch [4/5]:   0%|                                                                                   …"
      ]
     },
     "metadata": {},
     "output_type": "display_data"
    },
    {
     "data": {
      "application/vnd.jupyter.widget-view+json": {
       "model_id": "f4b708d701a84029966b2b35e152e313",
       "version_major": 2,
       "version_minor": 0
      },
      "text/plain": [
       "Validation Epoch [4/5]:   0%|                                                                                 …"
      ]
     },
     "metadata": {},
     "output_type": "display_data"
    },
    {
     "name": "stdout",
     "output_type": "stream",
     "text": [
      "Current learning rate: [0.001]\n"
     ]
    },
    {
     "data": {
      "application/vnd.jupyter.widget-view+json": {
       "model_id": "c80919faf6fd4a84bbc714cec01930a5",
       "version_major": 2,
       "version_minor": 0
      },
      "text/plain": [
       "Training Epoch [5/5]:   0%|                                                                                   …"
      ]
     },
     "metadata": {},
     "output_type": "display_data"
    },
    {
     "data": {
      "application/vnd.jupyter.widget-view+json": {
       "model_id": "23ac8d9793e54b059e7bd6eb62500177",
       "version_major": 2,
       "version_minor": 0
      },
      "text/plain": [
       "Validation Epoch [5/5]:   0%|                                                                                 …"
      ]
     },
     "metadata": {},
     "output_type": "display_data"
    },
    {
     "name": "stdout",
     "output_type": "stream",
     "text": [
      "Current learning rate: [0.0008]\n",
      "Got 700361/786432 with accuracy 89.056%\n",
      "\n",
      "\n",
      "Current hyper parameters: {'batch size': 1, 'step size': 5, 'learning rate': 0.001, 'epochs': 5, 'gamma': 0.8, 'momentum': 0.9, 'optimizer': 'sgd'}\n",
      "Created a new Dataloader for training with batch size: 1\n",
      "Created a new Dataloader for validation with batch size: 1\n",
      "Created a new Dataloader for testing with batch size: 1\n"
     ]
    },
    {
     "data": {
      "application/vnd.jupyter.widget-view+json": {
       "model_id": "9660197c5d9d455ea7808e19cd879656",
       "version_major": 2,
       "version_minor": 0
      },
      "text/plain": [
       "Training Epoch [1/5]:   0%|                                                                                   …"
      ]
     },
     "metadata": {},
     "output_type": "display_data"
    },
    {
     "data": {
      "application/vnd.jupyter.widget-view+json": {
       "model_id": "0255651854cc4305bc44c1937957cb00",
       "version_major": 2,
       "version_minor": 0
      },
      "text/plain": [
       "Validation Epoch [1/5]:   0%|                                                                                 …"
      ]
     },
     "metadata": {},
     "output_type": "display_data"
    },
    {
     "name": "stdout",
     "output_type": "stream",
     "text": [
      "Current learning rate: [0.001]\n"
     ]
    },
    {
     "data": {
      "application/vnd.jupyter.widget-view+json": {
       "model_id": "e946ec7c65a84fb59d20fd39d6e37deb",
       "version_major": 2,
       "version_minor": 0
      },
      "text/plain": [
       "Training Epoch [2/5]:   0%|                                                                                   …"
      ]
     },
     "metadata": {},
     "output_type": "display_data"
    },
    {
     "data": {
      "application/vnd.jupyter.widget-view+json": {
       "model_id": "ae35b7f064e64bb88ac68a0707b9207e",
       "version_major": 2,
       "version_minor": 0
      },
      "text/plain": [
       "Validation Epoch [2/5]:   0%|                                                                                 …"
      ]
     },
     "metadata": {},
     "output_type": "display_data"
    },
    {
     "name": "stdout",
     "output_type": "stream",
     "text": [
      "Current learning rate: [0.001]\n"
     ]
    },
    {
     "data": {
      "application/vnd.jupyter.widget-view+json": {
       "model_id": "c43a9dd2de3f4596b27ab6a46851b2ef",
       "version_major": 2,
       "version_minor": 0
      },
      "text/plain": [
       "Training Epoch [3/5]:   0%|                                                                                   …"
      ]
     },
     "metadata": {},
     "output_type": "display_data"
    },
    {
     "data": {
      "application/vnd.jupyter.widget-view+json": {
       "model_id": "daede44f54d54b75872e55fd69b3ef6a",
       "version_major": 2,
       "version_minor": 0
      },
      "text/plain": [
       "Validation Epoch [3/5]:   0%|                                                                                 …"
      ]
     },
     "metadata": {},
     "output_type": "display_data"
    },
    {
     "name": "stdout",
     "output_type": "stream",
     "text": [
      "Current learning rate: [0.001]\n"
     ]
    },
    {
     "data": {
      "application/vnd.jupyter.widget-view+json": {
       "model_id": "94bfca0dc2684925b6f94bf93224e892",
       "version_major": 2,
       "version_minor": 0
      },
      "text/plain": [
       "Training Epoch [4/5]:   0%|                                                                                   …"
      ]
     },
     "metadata": {},
     "output_type": "display_data"
    },
    {
     "data": {
      "application/vnd.jupyter.widget-view+json": {
       "model_id": "332dacd5c71e482691eb462c13e580ba",
       "version_major": 2,
       "version_minor": 0
      },
      "text/plain": [
       "Validation Epoch [4/5]:   0%|                                                                                 …"
      ]
     },
     "metadata": {},
     "output_type": "display_data"
    },
    {
     "name": "stdout",
     "output_type": "stream",
     "text": [
      "Current learning rate: [0.001]\n"
     ]
    },
    {
     "data": {
      "application/vnd.jupyter.widget-view+json": {
       "model_id": "021508a6b0c646c887709fa2a84f19ed",
       "version_major": 2,
       "version_minor": 0
      },
      "text/plain": [
       "Training Epoch [5/5]:   0%|                                                                                   …"
      ]
     },
     "metadata": {},
     "output_type": "display_data"
    },
    {
     "data": {
      "application/vnd.jupyter.widget-view+json": {
       "model_id": "48e3ae1a49e84462b53b70c4fc2989bd",
       "version_major": 2,
       "version_minor": 0
      },
      "text/plain": [
       "Validation Epoch [5/5]:   0%|                                                                                 …"
      ]
     },
     "metadata": {},
     "output_type": "display_data"
    },
    {
     "name": "stdout",
     "output_type": "stream",
     "text": [
      "Current learning rate: [0.0008]\n",
      "Got 700361/786432 with accuracy 89.056%\n",
      "\n",
      "\n",
      "Current hyper parameters: {'batch size': 2, 'step size': 5, 'learning rate': 0.001, 'epochs': 5, 'gamma': 0.8, 'momentum': 0.9, 'optimizer': 'Adam'}\n",
      "Created a new Dataloader for training with batch size: 2\n",
      "Created a new Dataloader for validation with batch size: 2\n",
      "Created a new Dataloader for testing with batch size: 2\n"
     ]
    },
    {
     "data": {
      "application/vnd.jupyter.widget-view+json": {
       "model_id": "6fe99df428f54b039282055935ccd043",
       "version_major": 2,
       "version_minor": 0
      },
      "text/plain": [
       "Training Epoch [1/5]:   0%|                                                                                   …"
      ]
     },
     "metadata": {},
     "output_type": "display_data"
    },
    {
     "data": {
      "application/vnd.jupyter.widget-view+json": {
       "model_id": "0ca13fb6461e4d4e981d9dc231fb4b3f",
       "version_major": 2,
       "version_minor": 0
      },
      "text/plain": [
       "Validation Epoch [1/5]:   0%|                                                                                 …"
      ]
     },
     "metadata": {},
     "output_type": "display_data"
    },
    {
     "name": "stdout",
     "output_type": "stream",
     "text": [
      "Current learning rate: [0.001]\n"
     ]
    },
    {
     "data": {
      "application/vnd.jupyter.widget-view+json": {
       "model_id": "0e0d0810086e4eb09c82a054022e87c1",
       "version_major": 2,
       "version_minor": 0
      },
      "text/plain": [
       "Training Epoch [2/5]:   0%|                                                                                   …"
      ]
     },
     "metadata": {},
     "output_type": "display_data"
    },
    {
     "data": {
      "application/vnd.jupyter.widget-view+json": {
       "model_id": "50166cd2e97245ef95b2b83ed1082dc6",
       "version_major": 2,
       "version_minor": 0
      },
      "text/plain": [
       "Validation Epoch [2/5]:   0%|                                                                                 …"
      ]
     },
     "metadata": {},
     "output_type": "display_data"
    },
    {
     "name": "stdout",
     "output_type": "stream",
     "text": [
      "Current learning rate: [0.001]\n"
     ]
    },
    {
     "data": {
      "application/vnd.jupyter.widget-view+json": {
       "model_id": "7aae120a8da54787aae072a638d86320",
       "version_major": 2,
       "version_minor": 0
      },
      "text/plain": [
       "Training Epoch [3/5]:   0%|                                                                                   …"
      ]
     },
     "metadata": {},
     "output_type": "display_data"
    },
    {
     "data": {
      "application/vnd.jupyter.widget-view+json": {
       "model_id": "44043754d18544bda5ea4d4ea34a0e42",
       "version_major": 2,
       "version_minor": 0
      },
      "text/plain": [
       "Validation Epoch [3/5]:   0%|                                                                                 …"
      ]
     },
     "metadata": {},
     "output_type": "display_data"
    },
    {
     "name": "stdout",
     "output_type": "stream",
     "text": [
      "Current learning rate: [0.001]\n"
     ]
    },
    {
     "data": {
      "application/vnd.jupyter.widget-view+json": {
       "model_id": "320ec490f061450aabd4f1bce0c238b3",
       "version_major": 2,
       "version_minor": 0
      },
      "text/plain": [
       "Training Epoch [4/5]:   0%|                                                                                   …"
      ]
     },
     "metadata": {},
     "output_type": "display_data"
    },
    {
     "data": {
      "application/vnd.jupyter.widget-view+json": {
       "model_id": "8dee43f718a04f61862d5624386504b4",
       "version_major": 2,
       "version_minor": 0
      },
      "text/plain": [
       "Validation Epoch [4/5]:   0%|                                                                                 …"
      ]
     },
     "metadata": {},
     "output_type": "display_data"
    },
    {
     "name": "stdout",
     "output_type": "stream",
     "text": [
      "Current learning rate: [0.001]\n"
     ]
    },
    {
     "data": {
      "application/vnd.jupyter.widget-view+json": {
       "model_id": "4118d509772242a0a93aa6a57ef24370",
       "version_major": 2,
       "version_minor": 0
      },
      "text/plain": [
       "Training Epoch [5/5]:   0%|                                                                                   …"
      ]
     },
     "metadata": {},
     "output_type": "display_data"
    },
    {
     "data": {
      "application/vnd.jupyter.widget-view+json": {
       "model_id": "ac5977ed0b2341888bff4fc998d16ce0",
       "version_major": 2,
       "version_minor": 0
      },
      "text/plain": [
       "Validation Epoch [5/5]:   0%|                                                                                 …"
      ]
     },
     "metadata": {},
     "output_type": "display_data"
    },
    {
     "name": "stdout",
     "output_type": "stream",
     "text": [
      "Current learning rate: [0.0008]\n",
      "Got 1400722/1572864 with accuracy 89.056%\n",
      "\n",
      "\n",
      "Current hyper parameters: {'batch size': 2, 'step size': 5, 'learning rate': 0.001, 'epochs': 5, 'gamma': 0.8, 'momentum': 0.9, 'optimizer': 'sgd'}\n",
      "Created a new Dataloader for training with batch size: 2\n",
      "Created a new Dataloader for validation with batch size: 2\n",
      "Created a new Dataloader for testing with batch size: 2\n"
     ]
    },
    {
     "data": {
      "application/vnd.jupyter.widget-view+json": {
       "model_id": "2037de7758c94003b613f28e7ee38341",
       "version_major": 2,
       "version_minor": 0
      },
      "text/plain": [
       "Training Epoch [1/5]:   0%|                                                                                   …"
      ]
     },
     "metadata": {},
     "output_type": "display_data"
    },
    {
     "data": {
      "application/vnd.jupyter.widget-view+json": {
       "model_id": "3eb6f15ea07e4238862cedb0fb9e1d5e",
       "version_major": 2,
       "version_minor": 0
      },
      "text/plain": [
       "Validation Epoch [1/5]:   0%|                                                                                 …"
      ]
     },
     "metadata": {},
     "output_type": "display_data"
    },
    {
     "name": "stdout",
     "output_type": "stream",
     "text": [
      "Current learning rate: [0.001]\n"
     ]
    },
    {
     "data": {
      "application/vnd.jupyter.widget-view+json": {
       "model_id": "322595b2d7914cbe97a4379f8e51e95a",
       "version_major": 2,
       "version_minor": 0
      },
      "text/plain": [
       "Training Epoch [2/5]:   0%|                                                                                   …"
      ]
     },
     "metadata": {},
     "output_type": "display_data"
    },
    {
     "data": {
      "application/vnd.jupyter.widget-view+json": {
       "model_id": "f0b0a0fdfe5e415b98eabb34ad388f18",
       "version_major": 2,
       "version_minor": 0
      },
      "text/plain": [
       "Validation Epoch [2/5]:   0%|                                                                                 …"
      ]
     },
     "metadata": {},
     "output_type": "display_data"
    },
    {
     "name": "stdout",
     "output_type": "stream",
     "text": [
      "Current learning rate: [0.001]\n"
     ]
    },
    {
     "data": {
      "application/vnd.jupyter.widget-view+json": {
       "model_id": "36e2762852ff4970921c351255793ed2",
       "version_major": 2,
       "version_minor": 0
      },
      "text/plain": [
       "Training Epoch [3/5]:   0%|                                                                                   …"
      ]
     },
     "metadata": {},
     "output_type": "display_data"
    },
    {
     "data": {
      "application/vnd.jupyter.widget-view+json": {
       "model_id": "762c767973614de5b7daaf6bb9e80e1a",
       "version_major": 2,
       "version_minor": 0
      },
      "text/plain": [
       "Validation Epoch [3/5]:   0%|                                                                                 …"
      ]
     },
     "metadata": {},
     "output_type": "display_data"
    },
    {
     "name": "stdout",
     "output_type": "stream",
     "text": [
      "Current learning rate: [0.001]\n"
     ]
    },
    {
     "data": {
      "application/vnd.jupyter.widget-view+json": {
       "model_id": "5a586e737db147f7a0e328c6f9b790be",
       "version_major": 2,
       "version_minor": 0
      },
      "text/plain": [
       "Training Epoch [4/5]:   0%|                                                                                   …"
      ]
     },
     "metadata": {},
     "output_type": "display_data"
    },
    {
     "data": {
      "application/vnd.jupyter.widget-view+json": {
       "model_id": "9117add36fe545fc82f2ca231fc207ef",
       "version_major": 2,
       "version_minor": 0
      },
      "text/plain": [
       "Validation Epoch [4/5]:   0%|                                                                                 …"
      ]
     },
     "metadata": {},
     "output_type": "display_data"
    },
    {
     "name": "stdout",
     "output_type": "stream",
     "text": [
      "Current learning rate: [0.001]\n"
     ]
    },
    {
     "data": {
      "application/vnd.jupyter.widget-view+json": {
       "model_id": "8fb021ec0b0f4539a375eb47af85a8c0",
       "version_major": 2,
       "version_minor": 0
      },
      "text/plain": [
       "Training Epoch [5/5]:   0%|                                                                                   …"
      ]
     },
     "metadata": {},
     "output_type": "display_data"
    },
    {
     "data": {
      "application/vnd.jupyter.widget-view+json": {
       "model_id": "4841e7e48ada4a8a97c04a3670777649",
       "version_major": 2,
       "version_minor": 0
      },
      "text/plain": [
       "Validation Epoch [5/5]:   0%|                                                                                 …"
      ]
     },
     "metadata": {},
     "output_type": "display_data"
    },
    {
     "name": "stdout",
     "output_type": "stream",
     "text": [
      "Current learning rate: [0.0008]\n",
      "Got 1400722/1572864 with accuracy 89.056%\n",
      "\n",
      "\n",
      "\n",
      "\n",
      "############### Finished hyperparameter search! ###############\n",
      "Best hyperparameters for SimpleEncDec: {'batch size': 1, 'step size': 5, 'learning rate': 0.001, 'epochs': 5, 'gamma': 0.8, 'momentum': 0.9, 'optimizer': 'Adam', 'number of classes': 2, 'device': device(type='cuda'), 'image size': (256, 256), 'backbone': 'SimpleEncDec', 'torch home': 'TorchvisionModels', 'network name': 'Test-0', 'beta1': 0.9, 'beta2': 0.999, 'epsilon': 1e-08, 'number of workers': 0, 'weight decay': 0.0005, 'scheduler': 'Yes'}\n",
      "\n",
      "\n",
      "Results: {'SimpleEncDec': {'batch size': 1, 'step size': 5, 'learning rate': 0.001, 'epochs': 5, 'gamma': 0.8, 'momentum': 0.9, 'optimizer': 'Adam', 'number of classes': 2, 'device': device(type='cuda'), 'image size': (256, 256), 'backbone': 'SimpleEncDec', 'torch home': 'TorchvisionModels', 'network name': 'Test-0', 'beta1': 0.9, 'beta2': 0.999, 'epsilon': 1e-08, 'number of workers': 0, 'weight decay': 0.0005, 'scheduler': 'Yes'}}\n"
     ]
    }
   ],
   "source": [
    "# Perform hyperparameter search\n",
    "samples = create_combinations(hyperparameter_grid)\n",
    "# samples = sample_hyperparameters(hyperparameter_grid, 15)\n",
    "\n",
    "print(f\"Number of combinations: {len(samples)} (amount of models to test)\\n\\n\")\n",
    "best_hp = hyperparameter_search(model, hyperparameters[\"backbone\"], loss_function, device, trainset,\n",
    "                                valset, testset, samples, hyperparameters, run_dir)\n",
    "results[hyperparameters[\"backbone\"]] = best_hp\n",
    "print(f\"Best hyperparameters for {hyperparameters['backbone']}: {best_hp}\")\n",
    "\n",
    "print(f\"\\n\\nResults: {results}\")"
   ]
  },
  {
   "cell_type": "code",
   "execution_count": 9,
   "id": "68670468-e286-4493-ad64-16a87ddfb623",
   "metadata": {},
   "outputs": [],
   "source": [
    "def predict(model, data):\n",
    "    model.eval()  # testing mode\n",
    "    Y_pred = [F.sigmoid(model(X_batch.to(device))) for X_batch, _ in data]\n",
    "    return np.array(Y_pred)"
   ]
  },
  {
   "cell_type": "markdown",
   "id": "36ac3eba-d83a-4e8d-aa4f-1b3bf6cdecda",
   "metadata": {},
   "source": [
    "# Need implementation of evaluation metrics"
   ]
  },
  {
   "cell_type": "code",
   "execution_count": null,
   "id": "0b093980-cbf9-4d66-bdab-f77a73c32b81",
   "metadata": {},
   "outputs": [],
   "source": []
  }
 ],
 "metadata": {
  "kernelspec": {
   "display_name": "Python 3 (ipykernel)",
   "language": "python",
   "name": "python3"
  },
  "language_info": {
   "codemirror_mode": {
    "name": "ipython",
    "version": 3
   },
   "file_extension": ".py",
   "mimetype": "text/x-python",
   "name": "python",
   "nbconvert_exporter": "python",
   "pygments_lexer": "ipython3",
   "version": "3.10.14"
  }
 },
 "nbformat": 4,
 "nbformat_minor": 5
}
