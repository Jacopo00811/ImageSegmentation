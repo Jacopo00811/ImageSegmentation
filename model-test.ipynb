{
 "cells": [
  {
   "cell_type": "code",
   "execution_count": 1,
   "id": "1a8272b8-7aab-4a9a-8414-fca4d9f521fc",
   "metadata": {},
   "outputs": [],
   "source": [
    "import os\n",
    "import numpy as np\n",
    "import glob\n",
    "import PIL.Image as Image\n",
    "from tqdm import tqdm\n",
    "from Dataloader import *\n",
    "from torch.utils.data import ConcatDataset\n",
    "import torch\n",
    "import torch.nn as nn\n",
    "import torch.nn.functional as F\n",
    "import torchvision.datasets as datasets\n",
    "from torch.utils.data import DataLoader\n",
    "import torchvision.transforms as transforms\n",
    "import matplotlib.pyplot as plt\n",
    "from torch.utils.data import random_split\n",
    "\n",
    "from torchvision import models\n",
    "from torchsummary import summary\n",
    "import torch.optim as optim\n",
    "from time import time\n",
    "from IPython.display import clear_output\n",
    "from Loss import *\n",
    "from torch.utils.tensorboard.writer import SummaryWriter\n",
    "from HyperParameterSearch import *"
   ]
  },
  {
   "cell_type": "markdown",
   "id": "9ec368a0-1a20-442a-937d-952ccf6c9536",
   "metadata": {},
   "source": [
    "We check that we're running on a GPU"
   ]
  },
  {
   "cell_type": "code",
   "execution_count": 2,
   "id": "7f05591a-9940-4f95-9d77-a834edcfa344",
   "metadata": {},
   "outputs": [
    {
     "name": "stdout",
     "output_type": "stream",
     "text": [
      "This code will run on GPU.\n"
     ]
    }
   ],
   "source": [
    "if torch.cuda.is_available():\n",
    "    print(\"This code will run on GPU.\")\n",
    "else:\n",
    "    print(\"The code will run on CPU.\")\n",
    "device = torch.device('cuda' if torch.cuda.is_available() else 'cpu')"
   ]
  },
  {
   "cell_type": "markdown",
   "id": "45a527a1-72a1-4781-a5a8-8be5537df1bd",
   "metadata": {},
   "source": [
    "Taking a look at some of the images from the two datasets"
   ]
  },
  {
   "cell_type": "code",
   "execution_count": 3,
   "id": "6812c5a8-7c5d-406a-b4d7-1aa917f6cb88",
   "metadata": {},
   "outputs": [],
   "source": [
    "transform = transforms.Compose(\n",
    "    [\n",
    "        transforms.Resize((256, 256)),\n",
    "        transforms.ToTensor(),\n",
    "    ]\n",
    ")\n",
    "\n",
    "drive_dataset = DRIVE(train=True, transform=transform)\n",
    "drive_train_size = int(0.8 * len(drive_dataset))\n",
    "drive_val_size = len(drive_dataset) - drive_train_size\n",
    "drive_train, drive_val = random_split(drive_dataset, [drive_train_size, drive_val_size])\n",
    "drive_test = DRIVE(train=False, transform=transform)\n",
    "\n",
    "ph2_dataset = PH2(train=True, transform=transform)\n",
    "ph2_train_size = int(0.8 * len(ph2_dataset))\n",
    "ph2_val_size = len(ph2_dataset) - ph2_train_size\n",
    "ph2_train, ph2_val = random_split(ph2_dataset, [ph2_train_size, ph2_val_size])\n",
    "ph2_test = PH2(train=False, transform=transform)                    \n",
    "\n"
   ]
  },
  {
   "cell_type": "markdown",
   "id": "d8883c90-2451-4b23-8d25-4efba7f45611",
   "metadata": {},
   "source": [
    "# Designing the model architecture\n",
    "\n",
    "Simple encoder decoder network class"
   ]
  },
  {
   "cell_type": "code",
   "execution_count": 4,
   "id": "ab40a516-c044-4376-8adc-d7bb5401fe5f",
   "metadata": {},
   "outputs": [],
   "source": [
    "\n",
    "class EncDec(nn.Module):\n",
    "    def __init__(self):\n",
    "        super().__init__()\n",
    "\n",
    "        # encoder (downsampling)\n",
    "        self.enc_conv0 = nn.Conv2d(3, 64, 3, padding=1)\n",
    "        self.pool0 = nn.MaxPool2d(2, 2)  # 128 -> 64\n",
    "        self.enc_conv1 = nn.Conv2d(64, 64, 3, padding=1)\n",
    "        self.pool1 = nn.MaxPool2d(2, 2)  # 64 -> 32\n",
    "        self.enc_conv2 = nn.Conv2d(64, 64, 3, padding=1)\n",
    "        self.pool2 = nn.MaxPool2d(2, 2)  # 32 -> 16\n",
    "        self.enc_conv3 = nn.Conv2d(64, 64, 3, padding=1)\n",
    "        self.pool3 = nn.MaxPool2d(2, 2)  # 16 -> 8\n",
    "\n",
    "        # bottleneck\n",
    "        self.bottleneck_conv = nn.Conv2d(64, 64, 3, padding=1)\n",
    "\n",
    "        # decoder (upsampling)\n",
    "        self.upsample0 = nn.Upsample(32)  # 8 -> 16\n",
    "        self.dec_conv0 = nn.Conv2d(64, 64, 3, padding=1)\n",
    "        self.upsample1 = nn.Upsample(64)  # 16 -> 32\n",
    "        self.dec_conv1 = nn.Conv2d(64, 64, 3, padding=1)\n",
    "        self.upsample2 = nn.Upsample(128)  # 32 -> 64\n",
    "        self.dec_conv2 = nn.Conv2d(64, 64, 3, padding=1)\n",
    "        self.upsample3 = nn.Upsample(256)  # 64 -> 128\n",
    "        self.dec_conv3 = nn.Conv2d(64, 1, 3, padding=1)\n",
    "\n",
    "    def forward(self, x):\n",
    "        # encoder\n",
    "        e0 = self.pool0(F.relu(self.enc_conv0(x)))\n",
    "        e1 = self.pool1(F.relu(self.enc_conv1(e0)))\n",
    "        e2 = self.pool2(F.relu(self.enc_conv2(e1)))\n",
    "        e3 = self.pool3(F.relu(self.enc_conv3(e2)))\n",
    "\n",
    "        # bottleneck\n",
    "        b = F.relu(self.bottleneck_conv(e3))\n",
    "\n",
    "        # decoder\n",
    "        d0 = F.relu(self.dec_conv0(self.upsample0(b)))\n",
    "        d1 = F.relu(self.dec_conv1(self.upsample1(d0)))\n",
    "        d2 = F.relu(self.dec_conv2(self.upsample2(d1)))\n",
    "        d3 = self.dec_conv3(self.upsample3(d2))  # no activation\n",
    "        return d3\n",
    "    "
   ]
  },
  {
   "cell_type": "markdown",
   "id": "a6d95182-2422-4728-8518-076997319d96",
   "metadata": {},
   "source": [
    "# Actually training model"
   ]
  },
  {
   "cell_type": "code",
   "execution_count": 5,
   "id": "76d23563-8326-4b38-8dd6-ace87b21442b",
   "metadata": {
    "scrolled": true
   },
   "outputs": [
    {
     "name": "stdout",
     "output_type": "stream",
     "text": [
      "----------------------------------------------------------------\n",
      "        Layer (type)               Output Shape         Param #\n",
      "================================================================\n",
      "            Conv2d-1         [-1, 64, 256, 256]           1,792\n",
      "         MaxPool2d-2         [-1, 64, 128, 128]               0\n",
      "            Conv2d-3         [-1, 64, 128, 128]          36,928\n",
      "         MaxPool2d-4           [-1, 64, 64, 64]               0\n",
      "            Conv2d-5           [-1, 64, 64, 64]          36,928\n",
      "         MaxPool2d-6           [-1, 64, 32, 32]               0\n",
      "            Conv2d-7           [-1, 64, 32, 32]          36,928\n",
      "         MaxPool2d-8           [-1, 64, 16, 16]               0\n",
      "            Conv2d-9           [-1, 64, 16, 16]          36,928\n",
      "         Upsample-10           [-1, 64, 32, 32]               0\n",
      "           Conv2d-11           [-1, 64, 32, 32]          36,928\n",
      "         Upsample-12           [-1, 64, 64, 64]               0\n",
      "           Conv2d-13           [-1, 64, 64, 64]          36,928\n",
      "         Upsample-14         [-1, 64, 128, 128]               0\n",
      "           Conv2d-15         [-1, 64, 128, 128]          36,928\n",
      "         Upsample-16         [-1, 64, 256, 256]               0\n",
      "           Conv2d-17          [-1, 1, 256, 256]             577\n",
      "================================================================\n",
      "Total params: 260,865\n",
      "Trainable params: 260,865\n",
      "Non-trainable params: 0\n",
      "----------------------------------------------------------------\n",
      "Input size (MB): 0.75\n",
      "Forward/backward pass size (MB): 106.75\n",
      "Params size (MB): 1.00\n",
      "Estimated Total Size (MB): 108.50\n",
      "----------------------------------------------------------------\n"
     ]
    }
   ],
   "source": [
    "model = EncDec().to(device)\n",
    "summary(model, (3, 256, 256))"
   ]
  },
  {
   "cell_type": "markdown",
   "id": "46556878-fd5b-4de3-b391-161664bd945e",
   "metadata": {},
   "source": [
    "Specifying hyperparameters"
   ]
  },
  {
   "cell_type": "code",
   "execution_count": 6,
   "id": "7e8af0fa-9cb9-477d-ae5e-c8033885e9a3",
   "metadata": {},
   "outputs": [
    {
     "name": "stdout",
     "output_type": "stream",
     "text": [
      "Current working directory: /zhome/c8/c/169006/Repos/ImageSegmentation\n"
     ]
    }
   ],
   "source": [
    "print(\"Current working directory:\", os.getcwd())\n",
    "\n",
    "run_dir = \"HPSearch\"\n",
    "os.makedirs(run_dir, exist_ok=True)\n",
    "\n",
    "# Define the loss function\n",
    "loss_function = bce_loss\n",
    "results = {}\n",
    "\n",
    "hyperparameters = {\n",
    "    \"number of classes\": 2,\n",
    "    \"device\": device,\n",
    "    \"image size\": (256, 256),\n",
    "    \"backbone\": \"SimpleEncDec\",\n",
    "    \"torch home\": \"TorchvisionModels\",\n",
    "    \"network name\": \"Test-0\",\n",
    "    \"beta1\": 0.9, # Default values for Adam\n",
    "    \"beta2\": 0.999, # Default values for Adam\n",
    "    \"epsilon\": 1e-08, # Default values for Adam\n",
    "    \"number of workers\": 0, \n",
    "    \"momentum\": 0.9,\n",
    "    \"weight decay\": 0.0005,\n",
    "    \"scheduler\": \"Yes\",\n",
    "}\n",
    "\n",
    "\n",
    "hyperparameter_grid = {\n",
    "    'batch size': [1, 2, 4],\n",
    "    'step size': [5, 3, 2],\n",
    "    'learning rate': [1e-3, 1e-4, 1e-5],\n",
    "    \"epochs\": [5, 10, 20],\n",
    "    'gamma': [0.8, 0.9, 0.7],\n",
    "    'momentum': [0.9, 0.95],\n",
    "    'optimizer': ['Adam', 'sgd'], \n",
    "    \n",
    "}\n",
    "\n",
    "hyperparameter_grid = {\n",
    "    'batch size': [1, 2],\n",
    "    'step size': [5],\n",
    "    'learning rate': [1e-3],\n",
    "    \"epochs\": [5],\n",
    "    'gamma': [0.8],\n",
    "    'momentum': [0.9],\n",
    "    'optimizer': ['Adam', 'sgd'], \n",
    "    \n",
    "}"
   ]
  },
  {
   "cell_type": "markdown",
   "id": "2f0bedeb-2fcf-479d-a66d-28265fcb922f",
   "metadata": {},
   "source": [
    "Creating dataset loaders"
   ]
  },
  {
   "cell_type": "code",
   "execution_count": 7,
   "id": "02add1f5-a92e-4e92-91bb-6c69709d544c",
   "metadata": {},
   "outputs": [
    {
     "name": "stdout",
     "output_type": "stream",
     "text": [
      "Created a new Dataset for training of length: 48\n",
      "Created a new Dataset for validation of length: 12\n",
      "Created a new Dataset for testing of length: 30\n"
     ]
    }
   ],
   "source": [
    "from torch.utils.tensorboard.writer import SummaryWriter\n",
    "\n",
    "trainset = ConcatDataset([drive_train, ph2_train])\n",
    "# train_loader = torch.utils.data.DataLoader(trainset, batch_size=hyperparameters['batch size'], shuffle=True)\n",
    "\n",
    "valset = ConcatDataset([drive_val, ph2_val])\n",
    "# val_loader = torch.utils.data.DataLoader(valset, batch_size=hyperparameters['batch size'], shuffle=False)\n",
    "\n",
    "testset = ConcatDataset([drive_test, ph2_test])\n",
    "# test_loader = torch.utils.data.DataLoader(testset, batch_size=hyperparameters['batch size'], shuffle=False)\n",
    "\n",
    "print(f\"Created a new Dataset for training of length: {len(trainset)}\")\n",
    "print(f\"Created a new Dataset for validation of length: {len(valset)}\")\n",
    "print(f\"Created a new Dataset for testing of length: {len(testset)}\")"
   ]
  },
  {
   "cell_type": "markdown",
   "id": "46b4137e-5a6b-4924-b45a-50d75b4d67c7",
   "metadata": {},
   "source": [
    "Conducting Hyperparameter Search"
   ]
  },
  {
   "cell_type": "code",
   "execution_count": 8,
   "id": "cc593a1d-efff-414a-88c3-044de7897bf7",
   "metadata": {
    "scrolled": true
   },
   "outputs": [
    {
     "name": "stdout",
     "output_type": "stream",
     "text": [
      "Number of combinations: 4 (amount of models to test)\n",
      "\n",
      "\n",
      "Current hyper parameters: {'batch size': 1, 'step size': 5, 'learning rate': 0.001, 'epochs': 5, 'gamma': 0.8, 'momentum': 0.9, 'optimizer': 'Adam'}\n",
      "Created a new Dataloader for training with batch size: 1\n",
      "Created a new Dataloader for validation with batch size: 1\n",
      "Created a new Dataloader for testing with batch size: 1\n"
     ]
    },
    {
     "data": {
      "application/vnd.jupyter.widget-view+json": {
       "model_id": "bbff887ecb874bd39d396fa4e6a27410",
       "version_major": 2,
       "version_minor": 0
      },
      "text/plain": [
       "Training Epoch [1/5]:   0%|                                                                                   …"
      ]
     },
     "metadata": {},
     "output_type": "display_data"
    },
    {
     "data": {
      "application/vnd.jupyter.widget-view+json": {
       "model_id": "f98d850c6a03430db76ea8a5d9e2c318",
       "version_major": 2,
       "version_minor": 0
      },
      "text/plain": [
       "Validation Epoch [1/5]:   0%|                                                                                 …"
      ]
     },
     "metadata": {},
     "output_type": "display_data"
    },
    {
     "name": "stdout",
     "output_type": "stream",
     "text": [
      "Current learning rate: [0.001]\n"
     ]
    },
    {
     "data": {
      "application/vnd.jupyter.widget-view+json": {
       "model_id": "9023ee1eb1104cb2a861860ab63c00e1",
       "version_major": 2,
       "version_minor": 0
      },
      "text/plain": [
       "Training Epoch [2/5]:   0%|                                                                                   …"
      ]
     },
     "metadata": {},
     "output_type": "display_data"
    },
    {
     "data": {
      "application/vnd.jupyter.widget-view+json": {
       "model_id": "41897232ab084206aa5eeb328bfef82b",
       "version_major": 2,
       "version_minor": 0
      },
      "text/plain": [
       "Validation Epoch [2/5]:   0%|                                                                                 …"
      ]
     },
     "metadata": {},
     "output_type": "display_data"
    },
    {
     "name": "stdout",
     "output_type": "stream",
     "text": [
      "Current learning rate: [0.001]\n"
     ]
    },
    {
     "data": {
      "application/vnd.jupyter.widget-view+json": {
       "model_id": "16302c21a64746bda40601ed8587496a",
       "version_major": 2,
       "version_minor": 0
      },
      "text/plain": [
       "Training Epoch [3/5]:   0%|                                                                                   …"
      ]
     },
     "metadata": {},
     "output_type": "display_data"
    },
    {
     "data": {
      "application/vnd.jupyter.widget-view+json": {
       "model_id": "ddc6d4313ec846708e26e826cf463748",
       "version_major": 2,
       "version_minor": 0
      },
      "text/plain": [
       "Validation Epoch [3/5]:   0%|                                                                                 …"
      ]
     },
     "metadata": {},
     "output_type": "display_data"
    },
    {
     "name": "stdout",
     "output_type": "stream",
     "text": [
      "Current learning rate: [0.001]\n"
     ]
    },
    {
     "data": {
      "application/vnd.jupyter.widget-view+json": {
       "model_id": "746bc4de5a05408690bade1cd5ef41a1",
       "version_major": 2,
       "version_minor": 0
      },
      "text/plain": [
       "Training Epoch [4/5]:   0%|                                                                                   …"
      ]
     },
     "metadata": {},
     "output_type": "display_data"
    },
    {
     "data": {
      "application/vnd.jupyter.widget-view+json": {
       "model_id": "a0043d34e47343b9bfd4199511080c26",
       "version_major": 2,
       "version_minor": 0
      },
      "text/plain": [
       "Validation Epoch [4/5]:   0%|                                                                                 …"
      ]
     },
     "metadata": {},
     "output_type": "display_data"
    },
    {
     "name": "stdout",
     "output_type": "stream",
     "text": [
      "Current learning rate: [0.001]\n"
     ]
    },
    {
     "data": {
      "application/vnd.jupyter.widget-view+json": {
       "model_id": "e8661774ebd54a8caec9e1c7285ec5ff",
       "version_major": 2,
       "version_minor": 0
      },
      "text/plain": [
       "Training Epoch [5/5]:   0%|                                                                                   …"
      ]
     },
     "metadata": {},
     "output_type": "display_data"
    },
    {
     "data": {
      "application/vnd.jupyter.widget-view+json": {
       "model_id": "b63f75fa33414f29824c2cb493ce6b98",
       "version_major": 2,
       "version_minor": 0
      },
      "text/plain": [
       "Validation Epoch [5/5]:   0%|                                                                                 …"
      ]
     },
     "metadata": {},
     "output_type": "display_data"
    },
    {
     "name": "stdout",
     "output_type": "stream",
     "text": [
      "Current learning rate: [0.0008]\n",
      "Got 646206/786432 with accuracy 82.169%\n",
      "\n",
      "\n",
      "Current hyper parameters: {'batch size': 1, 'step size': 5, 'learning rate': 0.001, 'epochs': 5, 'gamma': 0.8, 'momentum': 0.9, 'optimizer': 'sgd'}\n",
      "Created a new Dataloader for training with batch size: 1\n",
      "Created a new Dataloader for validation with batch size: 1\n",
      "Created a new Dataloader for testing with batch size: 1\n"
     ]
    },
    {
     "data": {
      "application/vnd.jupyter.widget-view+json": {
       "model_id": "65b3ac081e9e4e028d1a1ec6e0bed25a",
       "version_major": 2,
       "version_minor": 0
      },
      "text/plain": [
       "Training Epoch [1/5]:   0%|                                                                                   …"
      ]
     },
     "metadata": {},
     "output_type": "display_data"
    },
    {
     "data": {
      "application/vnd.jupyter.widget-view+json": {
       "model_id": "73d374b611eb49b9b7724b6f1aa4b180",
       "version_major": 2,
       "version_minor": 0
      },
      "text/plain": [
       "Validation Epoch [1/5]:   0%|                                                                                 …"
      ]
     },
     "metadata": {},
     "output_type": "display_data"
    },
    {
     "name": "stdout",
     "output_type": "stream",
     "text": [
      "Current learning rate: [0.001]\n"
     ]
    },
    {
     "data": {
      "application/vnd.jupyter.widget-view+json": {
       "model_id": "39844a0bb6f24b01936d14670a595df8",
       "version_major": 2,
       "version_minor": 0
      },
      "text/plain": [
       "Training Epoch [2/5]:   0%|                                                                                   …"
      ]
     },
     "metadata": {},
     "output_type": "display_data"
    },
    {
     "data": {
      "application/vnd.jupyter.widget-view+json": {
       "model_id": "f57c414b61bc4fb982f64623c9b1f25f",
       "version_major": 2,
       "version_minor": 0
      },
      "text/plain": [
       "Validation Epoch [2/5]:   0%|                                                                                 …"
      ]
     },
     "metadata": {},
     "output_type": "display_data"
    },
    {
     "name": "stdout",
     "output_type": "stream",
     "text": [
      "Current learning rate: [0.001]\n"
     ]
    },
    {
     "data": {
      "application/vnd.jupyter.widget-view+json": {
       "model_id": "e9ab09dbdb954891a2339d781c0fd2b5",
       "version_major": 2,
       "version_minor": 0
      },
      "text/plain": [
       "Training Epoch [3/5]:   0%|                                                                                   …"
      ]
     },
     "metadata": {},
     "output_type": "display_data"
    },
    {
     "data": {
      "application/vnd.jupyter.widget-view+json": {
       "model_id": "dcb3afab938f41c68dac96f821320200",
       "version_major": 2,
       "version_minor": 0
      },
      "text/plain": [
       "Validation Epoch [3/5]:   0%|                                                                                 …"
      ]
     },
     "metadata": {},
     "output_type": "display_data"
    },
    {
     "name": "stdout",
     "output_type": "stream",
     "text": [
      "Current learning rate: [0.001]\n"
     ]
    },
    {
     "data": {
      "application/vnd.jupyter.widget-view+json": {
       "model_id": "99af277f903a4fda87fa9f585a1b963a",
       "version_major": 2,
       "version_minor": 0
      },
      "text/plain": [
       "Training Epoch [4/5]:   0%|                                                                                   …"
      ]
     },
     "metadata": {},
     "output_type": "display_data"
    },
    {
     "data": {
      "application/vnd.jupyter.widget-view+json": {
       "model_id": "bc59164d7aa647a0acb28e332dc09a46",
       "version_major": 2,
       "version_minor": 0
      },
      "text/plain": [
       "Validation Epoch [4/5]:   0%|                                                                                 …"
      ]
     },
     "metadata": {},
     "output_type": "display_data"
    },
    {
     "name": "stdout",
     "output_type": "stream",
     "text": [
      "Current learning rate: [0.001]\n"
     ]
    },
    {
     "data": {
      "application/vnd.jupyter.widget-view+json": {
       "model_id": "f833b95eb734445591affbeaedab3c2e",
       "version_major": 2,
       "version_minor": 0
      },
      "text/plain": [
       "Training Epoch [5/5]:   0%|                                                                                   …"
      ]
     },
     "metadata": {},
     "output_type": "display_data"
    },
    {
     "data": {
      "application/vnd.jupyter.widget-view+json": {
       "model_id": "c30d374d34284d3eb2619414021c52b0",
       "version_major": 2,
       "version_minor": 0
      },
      "text/plain": [
       "Validation Epoch [5/5]:   0%|                                                                                 …"
      ]
     },
     "metadata": {},
     "output_type": "display_data"
    },
    {
     "name": "stdout",
     "output_type": "stream",
     "text": [
      "Current learning rate: [0.0008]\n",
      "Got 646206/786432 with accuracy 82.169%\n",
      "\n",
      "\n",
      "Current hyper parameters: {'batch size': 2, 'step size': 5, 'learning rate': 0.001, 'epochs': 5, 'gamma': 0.8, 'momentum': 0.9, 'optimizer': 'Adam'}\n",
      "Created a new Dataloader for training with batch size: 2\n",
      "Created a new Dataloader for validation with batch size: 2\n",
      "Created a new Dataloader for testing with batch size: 2\n"
     ]
    },
    {
     "data": {
      "application/vnd.jupyter.widget-view+json": {
       "model_id": "c63f087eb10b4b01b8c003c05d4d7e11",
       "version_major": 2,
       "version_minor": 0
      },
      "text/plain": [
       "Training Epoch [1/5]:   0%|                                                                                   …"
      ]
     },
     "metadata": {},
     "output_type": "display_data"
    },
    {
     "data": {
      "application/vnd.jupyter.widget-view+json": {
       "model_id": "ed4ee3bb170a4b5ba3a39dae01105293",
       "version_major": 2,
       "version_minor": 0
      },
      "text/plain": [
       "Validation Epoch [1/5]:   0%|                                                                                 …"
      ]
     },
     "metadata": {},
     "output_type": "display_data"
    },
    {
     "name": "stdout",
     "output_type": "stream",
     "text": [
      "Current learning rate: [0.001]\n"
     ]
    },
    {
     "data": {
      "application/vnd.jupyter.widget-view+json": {
       "model_id": "135d21cbcae847c7bb6566707ae6dc6a",
       "version_major": 2,
       "version_minor": 0
      },
      "text/plain": [
       "Training Epoch [2/5]:   0%|                                                                                   …"
      ]
     },
     "metadata": {},
     "output_type": "display_data"
    },
    {
     "data": {
      "application/vnd.jupyter.widget-view+json": {
       "model_id": "9e2a2e9e7cb44903a20060143d37e0a9",
       "version_major": 2,
       "version_minor": 0
      },
      "text/plain": [
       "Validation Epoch [2/5]:   0%|                                                                                 …"
      ]
     },
     "metadata": {},
     "output_type": "display_data"
    },
    {
     "name": "stdout",
     "output_type": "stream",
     "text": [
      "Current learning rate: [0.001]\n"
     ]
    },
    {
     "data": {
      "application/vnd.jupyter.widget-view+json": {
       "model_id": "61f237e8e76140e0b172610fd34b1aa8",
       "version_major": 2,
       "version_minor": 0
      },
      "text/plain": [
       "Training Epoch [3/5]:   0%|                                                                                   …"
      ]
     },
     "metadata": {},
     "output_type": "display_data"
    },
    {
     "data": {
      "application/vnd.jupyter.widget-view+json": {
       "model_id": "ba42b55d37164be08fd2eaeb5e743864",
       "version_major": 2,
       "version_minor": 0
      },
      "text/plain": [
       "Validation Epoch [3/5]:   0%|                                                                                 …"
      ]
     },
     "metadata": {},
     "output_type": "display_data"
    },
    {
     "name": "stdout",
     "output_type": "stream",
     "text": [
      "Current learning rate: [0.001]\n"
     ]
    },
    {
     "data": {
      "application/vnd.jupyter.widget-view+json": {
       "model_id": "4f3f0e66fff9457ba6cccb686e74cd08",
       "version_major": 2,
       "version_minor": 0
      },
      "text/plain": [
       "Training Epoch [4/5]:   0%|                                                                                   …"
      ]
     },
     "metadata": {},
     "output_type": "display_data"
    },
    {
     "data": {
      "application/vnd.jupyter.widget-view+json": {
       "model_id": "f1799489b39249ef9fbbb37b2cf969f9",
       "version_major": 2,
       "version_minor": 0
      },
      "text/plain": [
       "Validation Epoch [4/5]:   0%|                                                                                 …"
      ]
     },
     "metadata": {},
     "output_type": "display_data"
    },
    {
     "name": "stdout",
     "output_type": "stream",
     "text": [
      "Current learning rate: [0.001]\n"
     ]
    },
    {
     "data": {
      "application/vnd.jupyter.widget-view+json": {
       "model_id": "4eed6a75d2764425873627e62e92986c",
       "version_major": 2,
       "version_minor": 0
      },
      "text/plain": [
       "Training Epoch [5/5]:   0%|                                                                                   …"
      ]
     },
     "metadata": {},
     "output_type": "display_data"
    },
    {
     "data": {
      "application/vnd.jupyter.widget-view+json": {
       "model_id": "8ed3caea590c474db4c644d07731e4f9",
       "version_major": 2,
       "version_minor": 0
      },
      "text/plain": [
       "Validation Epoch [5/5]:   0%|                                                                                 …"
      ]
     },
     "metadata": {},
     "output_type": "display_data"
    },
    {
     "name": "stdout",
     "output_type": "stream",
     "text": [
      "Current learning rate: [0.0008]\n",
      "Got 1292412/1572864 with accuracy 82.169%\n",
      "\n",
      "\n",
      "Current hyper parameters: {'batch size': 2, 'step size': 5, 'learning rate': 0.001, 'epochs': 5, 'gamma': 0.8, 'momentum': 0.9, 'optimizer': 'sgd'}\n",
      "Created a new Dataloader for training with batch size: 2\n",
      "Created a new Dataloader for validation with batch size: 2\n",
      "Created a new Dataloader for testing with batch size: 2\n"
     ]
    },
    {
     "data": {
      "application/vnd.jupyter.widget-view+json": {
       "model_id": "12aef32245b24f798635d728235b2421",
       "version_major": 2,
       "version_minor": 0
      },
      "text/plain": [
       "Training Epoch [1/5]:   0%|                                                                                   …"
      ]
     },
     "metadata": {},
     "output_type": "display_data"
    },
    {
     "data": {
      "application/vnd.jupyter.widget-view+json": {
       "model_id": "a6b722f8534c45098f3c585b1762ca5d",
       "version_major": 2,
       "version_minor": 0
      },
      "text/plain": [
       "Validation Epoch [1/5]:   0%|                                                                                 …"
      ]
     },
     "metadata": {},
     "output_type": "display_data"
    },
    {
     "name": "stdout",
     "output_type": "stream",
     "text": [
      "Current learning rate: [0.001]\n"
     ]
    },
    {
     "data": {
      "application/vnd.jupyter.widget-view+json": {
       "model_id": "a5debf00847344138047e9fb09dffabd",
       "version_major": 2,
       "version_minor": 0
      },
      "text/plain": [
       "Training Epoch [2/5]:   0%|                                                                                   …"
      ]
     },
     "metadata": {},
     "output_type": "display_data"
    },
    {
     "data": {
      "application/vnd.jupyter.widget-view+json": {
       "model_id": "2f15a8fb2a9e4051b32b6360fbdd1069",
       "version_major": 2,
       "version_minor": 0
      },
      "text/plain": [
       "Validation Epoch [2/5]:   0%|                                                                                 …"
      ]
     },
     "metadata": {},
     "output_type": "display_data"
    },
    {
     "name": "stdout",
     "output_type": "stream",
     "text": [
      "Current learning rate: [0.001]\n"
     ]
    },
    {
     "data": {
      "application/vnd.jupyter.widget-view+json": {
       "model_id": "61fe7cdc559d4302aaf75161e0c1902c",
       "version_major": 2,
       "version_minor": 0
      },
      "text/plain": [
       "Training Epoch [3/5]:   0%|                                                                                   …"
      ]
     },
     "metadata": {},
     "output_type": "display_data"
    },
    {
     "data": {
      "application/vnd.jupyter.widget-view+json": {
       "model_id": "5a3b762f2b054336a8171c8cf1de4099",
       "version_major": 2,
       "version_minor": 0
      },
      "text/plain": [
       "Validation Epoch [3/5]:   0%|                                                                                 …"
      ]
     },
     "metadata": {},
     "output_type": "display_data"
    },
    {
     "name": "stdout",
     "output_type": "stream",
     "text": [
      "Current learning rate: [0.001]\n"
     ]
    },
    {
     "data": {
      "application/vnd.jupyter.widget-view+json": {
       "model_id": "cb228306ded44a8f866962cc96189e96",
       "version_major": 2,
       "version_minor": 0
      },
      "text/plain": [
       "Training Epoch [4/5]:   0%|                                                                                   …"
      ]
     },
     "metadata": {},
     "output_type": "display_data"
    },
    {
     "data": {
      "application/vnd.jupyter.widget-view+json": {
       "model_id": "80807348e29e47eab43a1c4b15a679b3",
       "version_major": 2,
       "version_minor": 0
      },
      "text/plain": [
       "Validation Epoch [4/5]:   0%|                                                                                 …"
      ]
     },
     "metadata": {},
     "output_type": "display_data"
    },
    {
     "name": "stdout",
     "output_type": "stream",
     "text": [
      "Current learning rate: [0.001]\n"
     ]
    },
    {
     "data": {
      "application/vnd.jupyter.widget-view+json": {
       "model_id": "9906b919d202483bb3588ed5ee155962",
       "version_major": 2,
       "version_minor": 0
      },
      "text/plain": [
       "Training Epoch [5/5]:   0%|                                                                                   …"
      ]
     },
     "metadata": {},
     "output_type": "display_data"
    },
    {
     "data": {
      "application/vnd.jupyter.widget-view+json": {
       "model_id": "9a2b82def11944998cb10579c86729af",
       "version_major": 2,
       "version_minor": 0
      },
      "text/plain": [
       "Validation Epoch [5/5]:   0%|                                                                                 …"
      ]
     },
     "metadata": {},
     "output_type": "display_data"
    },
    {
     "name": "stdout",
     "output_type": "stream",
     "text": [
      "Current learning rate: [0.0008]\n",
      "Got 1292412/1572864 with accuracy 82.169%\n",
      "\n",
      "\n",
      "\n",
      "\n",
      "############### Finished hyperparameter search! ###############\n",
      "Best hyperparameters for SimpleEncDec: {'batch size': 1, 'step size': 5, 'learning rate': 0.001, 'epochs': 5, 'gamma': 0.8, 'momentum': 0.9, 'optimizer': 'Adam', 'number of classes': 2, 'device': device(type='cuda'), 'image size': (256, 256), 'backbone': 'SimpleEncDec', 'torch home': 'TorchvisionModels', 'network name': 'Test-0', 'beta1': 0.9, 'beta2': 0.999, 'epsilon': 1e-08, 'number of workers': 0, 'weight decay': 0.0005, 'scheduler': 'Yes'}\n",
      "\n",
      "\n",
      "Results: {'SimpleEncDec': {'batch size': 1, 'step size': 5, 'learning rate': 0.001, 'epochs': 5, 'gamma': 0.8, 'momentum': 0.9, 'optimizer': 'Adam', 'number of classes': 2, 'device': device(type='cuda'), 'image size': (256, 256), 'backbone': 'SimpleEncDec', 'torch home': 'TorchvisionModels', 'network name': 'Test-0', 'beta1': 0.9, 'beta2': 0.999, 'epsilon': 1e-08, 'number of workers': 0, 'weight decay': 0.0005, 'scheduler': 'Yes'}}\n"
     ]
    }
   ],
   "source": [
    "# Perform hyperparameter search\n",
    "samples = create_combinations(hyperparameter_grid)\n",
    "# samples = sample_hyperparameters(hyperparameter_grid, 15)\n",
    "\n",
    "print(f\"Number of combinations: {len(samples)} (amount of models to test)\\n\\n\")\n",
    "best_hp = hyperparameter_search(model, hyperparameters[\"backbone\"], loss_function, device, trainset,\n",
    "                                valset, testset, samples, hyperparameters, run_dir)\n",
    "results[hyperparameters[\"backbone\"]] = best_hp\n",
    "print(f\"Best hyperparameters for {hyperparameters['backbone']}: {best_hp}\")\n",
    "\n",
    "print(f\"\\n\\nResults: {results}\")"
   ]
  },
  {
   "cell_type": "code",
   "execution_count": 9,
   "id": "68670468-e286-4493-ad64-16a87ddfb623",
   "metadata": {},
   "outputs": [],
   "source": [
    "def predict(model, data):\n",
    "    model.eval()  # testing mode\n",
    "    Y_pred = [F.sigmoid(model(X_batch.to(device))) for X_batch, _ in data]\n",
    "    return np.array(Y_pred)"
   ]
  },
  {
   "cell_type": "markdown",
   "id": "36ac3eba-d83a-4e8d-aa4f-1b3bf6cdecda",
   "metadata": {},
   "source": [
    "# Need implementation of evaluation metrics"
   ]
  },
  {
   "cell_type": "code",
   "execution_count": null,
   "id": "0b093980-cbf9-4d66-bdab-f77a73c32b81",
   "metadata": {},
   "outputs": [],
   "source": []
  }
 ],
 "metadata": {
  "kernelspec": {
   "display_name": "Python 3 (ipykernel)",
   "language": "python",
   "name": "python3"
  },
  "language_info": {
   "codemirror_mode": {
    "name": "ipython",
    "version": 3
   },
   "file_extension": ".py",
   "mimetype": "text/x-python",
   "name": "python",
   "nbconvert_exporter": "python",
   "pygments_lexer": "ipython3",
   "version": "3.10.14"
  }
 },
 "nbformat": 4,
 "nbformat_minor": 5
}
